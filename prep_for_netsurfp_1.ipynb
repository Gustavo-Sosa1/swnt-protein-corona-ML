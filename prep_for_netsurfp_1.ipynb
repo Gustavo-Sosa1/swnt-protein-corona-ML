{
 "cells": [
  {
   "cell_type": "code",
   "execution_count": 1,
   "source": [
    "import pandas as pd\n",
    "import numpy as np\n",
    "from pprint import pprint\n",
    "# import urllib.request\n",
    "# import json\n",
    "from uniprot_netsurfp_scraping import *"
   ],
   "outputs": [],
   "metadata": {
    "pycharm": {
     "name": "#%%\n"
    }
   }
  },
  {
   "cell_type": "markdown",
   "source": [
    "# Prep for Netsurfp "
   ],
   "metadata": {
    "pycharm": {
     "name": "#%% md\n"
    }
   }
  },
  {
   "cell_type": "markdown",
   "source": [
    "# Processing NetSurfP data for use in future notebooks (only useful part of this script -Gus PS needs to be updated to remove use of append and use proper index syntax)\n",
    "\n",
    "The format that netsurfp outputs from the webiste does not need to be changed. An example of what that data looks like is in data folder labeled netsurfp_2_CMNP200. In addition to the raw netsurfp data you will also need and excel sheet with just the Accession Numbers of the proteins in your database. An example is in data folder labeled CMNP200_ProteinList"
   ],
   "metadata": {
    "pycharm": {
     "name": "#%% md\n"
    }
   }
  },
  {
   "cell_type": "code",
   "execution_count": 3,
   "outputs": [
    {
     "name": "stdout",
     "output_type": "stream",
     "text": [
      "   Accession\n",
      "0     P02769\n",
      "1     P00735\n",
      "2     P41361\n",
      "3     Q28085\n",
      "4     Q9N2I2\n",
      "5     P12763\n",
      "6     Q2KIS7\n",
      "7     P01044\n",
      "8     P01966\n",
      "9     P34955\n",
      "10    Q3SX14\n",
      "11    Q03247\n",
      "12    Q28178\n",
      "13    P02081\n",
      "14    P00978\n",
      "15    Q2KJ63\n",
      "16    P33433\n",
      "17    P01045\n",
      "18    P17690\n",
      "19    P01030\n"
     ]
    },
    {
     "name": "stderr",
     "output_type": "stream",
     "text": [
      "C:\\Users\\pouls\\PycharmProjects\\swnt-protein-corona-ML\\uniprot_netsurfp_scraping.py:221: SettingWithCopyWarning: \n",
      "A value is trying to be set on a copy of a slice from a DataFrame.\n",
      "Try using .loc[row_indexer,col_indexer] = value instead\n",
      "\n",
      "See the caveats in the documentation: https://pandas.pydata.org/pandas-docs/stable/user_guide/indexing.html#returning-a-view-versus-a-copy\n",
      "  filtered['class assignment'] = np.where(filtered.rsa > 0.25, 'E',\n",
      "C:\\Users\\pouls\\PycharmProjects\\swnt-protein-corona-ML\\uniprot_netsurfp_scraping.py:221: SettingWithCopyWarning: \n",
      "A value is trying to be set on a copy of a slice from a DataFrame.\n",
      "Try using .loc[row_indexer,col_indexer] = value instead\n",
      "\n",
      "See the caveats in the documentation: https://pandas.pydata.org/pandas-docs/stable/user_guide/indexing.html#returning-a-view-versus-a-copy\n",
      "  filtered['class assignment'] = np.where(filtered.rsa > 0.25, 'E',\n",
      "C:\\Users\\pouls\\PycharmProjects\\swnt-protein-corona-ML\\uniprot_netsurfp_scraping.py:308: FutureWarning: The frame.append method is deprecated and will be removed from pandas in a future version. Use pandas.concat instead.\n",
      "  netsurfp_processed_data = netsurfp_processed_data.append(\n",
      "C:\\Users\\pouls\\PycharmProjects\\swnt-protein-corona-ML\\uniprot_netsurfp_scraping.py:221: SettingWithCopyWarning: \n",
      "A value is trying to be set on a copy of a slice from a DataFrame.\n",
      "Try using .loc[row_indexer,col_indexer] = value instead\n",
      "\n",
      "See the caveats in the documentation: https://pandas.pydata.org/pandas-docs/stable/user_guide/indexing.html#returning-a-view-versus-a-copy\n",
      "  filtered['class assignment'] = np.where(filtered.rsa > 0.25, 'E',\n",
      "C:\\Users\\pouls\\PycharmProjects\\swnt-protein-corona-ML\\uniprot_netsurfp_scraping.py:308: FutureWarning: The frame.append method is deprecated and will be removed from pandas in a future version. Use pandas.concat instead.\n",
      "  netsurfp_processed_data = netsurfp_processed_data.append(\n",
      "C:\\Users\\pouls\\PycharmProjects\\swnt-protein-corona-ML\\uniprot_netsurfp_scraping.py:221: SettingWithCopyWarning: \n",
      "A value is trying to be set on a copy of a slice from a DataFrame.\n",
      "Try using .loc[row_indexer,col_indexer] = value instead\n",
      "\n",
      "See the caveats in the documentation: https://pandas.pydata.org/pandas-docs/stable/user_guide/indexing.html#returning-a-view-versus-a-copy\n",
      "  filtered['class assignment'] = np.where(filtered.rsa > 0.25, 'E',\n",
      "C:\\Users\\pouls\\PycharmProjects\\swnt-protein-corona-ML\\uniprot_netsurfp_scraping.py:308: FutureWarning: The frame.append method is deprecated and will be removed from pandas in a future version. Use pandas.concat instead.\n",
      "  netsurfp_processed_data = netsurfp_processed_data.append(\n",
      "C:\\Users\\pouls\\PycharmProjects\\swnt-protein-corona-ML\\uniprot_netsurfp_scraping.py:221: SettingWithCopyWarning: \n",
      "A value is trying to be set on a copy of a slice from a DataFrame.\n",
      "Try using .loc[row_indexer,col_indexer] = value instead\n",
      "\n",
      "See the caveats in the documentation: https://pandas.pydata.org/pandas-docs/stable/user_guide/indexing.html#returning-a-view-versus-a-copy\n",
      "  filtered['class assignment'] = np.where(filtered.rsa > 0.25, 'E',\n",
      "C:\\Users\\pouls\\PycharmProjects\\swnt-protein-corona-ML\\uniprot_netsurfp_scraping.py:308: FutureWarning: The frame.append method is deprecated and will be removed from pandas in a future version. Use pandas.concat instead.\n",
      "  netsurfp_processed_data = netsurfp_processed_data.append(\n",
      "C:\\Users\\pouls\\PycharmProjects\\swnt-protein-corona-ML\\uniprot_netsurfp_scraping.py:221: SettingWithCopyWarning: \n",
      "A value is trying to be set on a copy of a slice from a DataFrame.\n",
      "Try using .loc[row_indexer,col_indexer] = value instead\n",
      "\n",
      "See the caveats in the documentation: https://pandas.pydata.org/pandas-docs/stable/user_guide/indexing.html#returning-a-view-versus-a-copy\n",
      "  filtered['class assignment'] = np.where(filtered.rsa > 0.25, 'E',\n",
      "C:\\Users\\pouls\\PycharmProjects\\swnt-protein-corona-ML\\uniprot_netsurfp_scraping.py:308: FutureWarning: The frame.append method is deprecated and will be removed from pandas in a future version. Use pandas.concat instead.\n",
      "  netsurfp_processed_data = netsurfp_processed_data.append(\n",
      "C:\\Users\\pouls\\PycharmProjects\\swnt-protein-corona-ML\\uniprot_netsurfp_scraping.py:221: SettingWithCopyWarning: \n",
      "A value is trying to be set on a copy of a slice from a DataFrame.\n",
      "Try using .loc[row_indexer,col_indexer] = value instead\n",
      "\n",
      "See the caveats in the documentation: https://pandas.pydata.org/pandas-docs/stable/user_guide/indexing.html#returning-a-view-versus-a-copy\n",
      "  filtered['class assignment'] = np.where(filtered.rsa > 0.25, 'E',\n",
      "C:\\Users\\pouls\\PycharmProjects\\swnt-protein-corona-ML\\uniprot_netsurfp_scraping.py:308: FutureWarning: The frame.append method is deprecated and will be removed from pandas in a future version. Use pandas.concat instead.\n",
      "  netsurfp_processed_data = netsurfp_processed_data.append(\n",
      "C:\\Users\\pouls\\PycharmProjects\\swnt-protein-corona-ML\\uniprot_netsurfp_scraping.py:221: SettingWithCopyWarning: \n",
      "A value is trying to be set on a copy of a slice from a DataFrame.\n",
      "Try using .loc[row_indexer,col_indexer] = value instead\n",
      "\n",
      "See the caveats in the documentation: https://pandas.pydata.org/pandas-docs/stable/user_guide/indexing.html#returning-a-view-versus-a-copy\n",
      "  filtered['class assignment'] = np.where(filtered.rsa > 0.25, 'E',\n",
      "C:\\Users\\pouls\\PycharmProjects\\swnt-protein-corona-ML\\uniprot_netsurfp_scraping.py:308: FutureWarning: The frame.append method is deprecated and will be removed from pandas in a future version. Use pandas.concat instead.\n",
      "  netsurfp_processed_data = netsurfp_processed_data.append(\n",
      "C:\\Users\\pouls\\PycharmProjects\\swnt-protein-corona-ML\\uniprot_netsurfp_scraping.py:221: SettingWithCopyWarning: \n",
      "A value is trying to be set on a copy of a slice from a DataFrame.\n",
      "Try using .loc[row_indexer,col_indexer] = value instead\n",
      "\n",
      "See the caveats in the documentation: https://pandas.pydata.org/pandas-docs/stable/user_guide/indexing.html#returning-a-view-versus-a-copy\n",
      "  filtered['class assignment'] = np.where(filtered.rsa > 0.25, 'E',\n",
      "C:\\Users\\pouls\\PycharmProjects\\swnt-protein-corona-ML\\uniprot_netsurfp_scraping.py:308: FutureWarning: The frame.append method is deprecated and will be removed from pandas in a future version. Use pandas.concat instead.\n",
      "  netsurfp_processed_data = netsurfp_processed_data.append(\n",
      "C:\\Users\\pouls\\PycharmProjects\\swnt-protein-corona-ML\\uniprot_netsurfp_scraping.py:221: SettingWithCopyWarning: \n",
      "A value is trying to be set on a copy of a slice from a DataFrame.\n",
      "Try using .loc[row_indexer,col_indexer] = value instead\n",
      "\n",
      "See the caveats in the documentation: https://pandas.pydata.org/pandas-docs/stable/user_guide/indexing.html#returning-a-view-versus-a-copy\n",
      "  filtered['class assignment'] = np.where(filtered.rsa > 0.25, 'E',\n",
      "C:\\Users\\pouls\\PycharmProjects\\swnt-protein-corona-ML\\uniprot_netsurfp_scraping.py:308: FutureWarning: The frame.append method is deprecated and will be removed from pandas in a future version. Use pandas.concat instead.\n",
      "  netsurfp_processed_data = netsurfp_processed_data.append(\n",
      "C:\\Users\\pouls\\PycharmProjects\\swnt-protein-corona-ML\\uniprot_netsurfp_scraping.py:221: SettingWithCopyWarning: \n",
      "A value is trying to be set on a copy of a slice from a DataFrame.\n",
      "Try using .loc[row_indexer,col_indexer] = value instead\n",
      "\n",
      "See the caveats in the documentation: https://pandas.pydata.org/pandas-docs/stable/user_guide/indexing.html#returning-a-view-versus-a-copy\n",
      "  filtered['class assignment'] = np.where(filtered.rsa > 0.25, 'E',\n",
      "C:\\Users\\pouls\\PycharmProjects\\swnt-protein-corona-ML\\uniprot_netsurfp_scraping.py:308: FutureWarning: The frame.append method is deprecated and will be removed from pandas in a future version. Use pandas.concat instead.\n",
      "  netsurfp_processed_data = netsurfp_processed_data.append(\n",
      "C:\\Users\\pouls\\PycharmProjects\\swnt-protein-corona-ML\\uniprot_netsurfp_scraping.py:221: SettingWithCopyWarning: \n",
      "A value is trying to be set on a copy of a slice from a DataFrame.\n",
      "Try using .loc[row_indexer,col_indexer] = value instead\n",
      "\n",
      "See the caveats in the documentation: https://pandas.pydata.org/pandas-docs/stable/user_guide/indexing.html#returning-a-view-versus-a-copy\n",
      "  filtered['class assignment'] = np.where(filtered.rsa > 0.25, 'E',\n",
      "C:\\Users\\pouls\\PycharmProjects\\swnt-protein-corona-ML\\uniprot_netsurfp_scraping.py:308: FutureWarning: The frame.append method is deprecated and will be removed from pandas in a future version. Use pandas.concat instead.\n",
      "  netsurfp_processed_data = netsurfp_processed_data.append(\n",
      "C:\\Users\\pouls\\PycharmProjects\\swnt-protein-corona-ML\\uniprot_netsurfp_scraping.py:221: SettingWithCopyWarning: \n",
      "A value is trying to be set on a copy of a slice from a DataFrame.\n",
      "Try using .loc[row_indexer,col_indexer] = value instead\n",
      "\n",
      "See the caveats in the documentation: https://pandas.pydata.org/pandas-docs/stable/user_guide/indexing.html#returning-a-view-versus-a-copy\n",
      "  filtered['class assignment'] = np.where(filtered.rsa > 0.25, 'E',\n",
      "C:\\Users\\pouls\\PycharmProjects\\swnt-protein-corona-ML\\uniprot_netsurfp_scraping.py:308: FutureWarning: The frame.append method is deprecated and will be removed from pandas in a future version. Use pandas.concat instead.\n",
      "  netsurfp_processed_data = netsurfp_processed_data.append(\n",
      "C:\\Users\\pouls\\PycharmProjects\\swnt-protein-corona-ML\\uniprot_netsurfp_scraping.py:221: SettingWithCopyWarning: \n",
      "A value is trying to be set on a copy of a slice from a DataFrame.\n",
      "Try using .loc[row_indexer,col_indexer] = value instead\n",
      "\n",
      "See the caveats in the documentation: https://pandas.pydata.org/pandas-docs/stable/user_guide/indexing.html#returning-a-view-versus-a-copy\n",
      "  filtered['class assignment'] = np.where(filtered.rsa > 0.25, 'E',\n",
      "C:\\Users\\pouls\\PycharmProjects\\swnt-protein-corona-ML\\uniprot_netsurfp_scraping.py:308: FutureWarning: The frame.append method is deprecated and will be removed from pandas in a future version. Use pandas.concat instead.\n",
      "  netsurfp_processed_data = netsurfp_processed_data.append(\n",
      "C:\\Users\\pouls\\PycharmProjects\\swnt-protein-corona-ML\\uniprot_netsurfp_scraping.py:221: SettingWithCopyWarning: \n",
      "A value is trying to be set on a copy of a slice from a DataFrame.\n",
      "Try using .loc[row_indexer,col_indexer] = value instead\n",
      "\n",
      "See the caveats in the documentation: https://pandas.pydata.org/pandas-docs/stable/user_guide/indexing.html#returning-a-view-versus-a-copy\n",
      "  filtered['class assignment'] = np.where(filtered.rsa > 0.25, 'E',\n",
      "C:\\Users\\pouls\\PycharmProjects\\swnt-protein-corona-ML\\uniprot_netsurfp_scraping.py:308: FutureWarning: The frame.append method is deprecated and will be removed from pandas in a future version. Use pandas.concat instead.\n",
      "  netsurfp_processed_data = netsurfp_processed_data.append(\n",
      "C:\\Users\\pouls\\PycharmProjects\\swnt-protein-corona-ML\\uniprot_netsurfp_scraping.py:221: SettingWithCopyWarning: \n",
      "A value is trying to be set on a copy of a slice from a DataFrame.\n",
      "Try using .loc[row_indexer,col_indexer] = value instead\n",
      "\n",
      "See the caveats in the documentation: https://pandas.pydata.org/pandas-docs/stable/user_guide/indexing.html#returning-a-view-versus-a-copy\n",
      "  filtered['class assignment'] = np.where(filtered.rsa > 0.25, 'E',\n"
     ]
    },
    {
     "name": "stdout",
     "output_type": "stream",
     "text": [
      "(20, 55)\n",
      "done\n"
     ]
    },
    {
     "name": "stderr",
     "output_type": "stream",
     "text": [
      "C:\\Users\\pouls\\PycharmProjects\\swnt-protein-corona-ML\\uniprot_netsurfp_scraping.py:308: FutureWarning: The frame.append method is deprecated and will be removed from pandas in a future version. Use pandas.concat instead.\n",
      "  netsurfp_processed_data = netsurfp_processed_data.append(\n",
      "C:\\Users\\pouls\\PycharmProjects\\swnt-protein-corona-ML\\uniprot_netsurfp_scraping.py:221: SettingWithCopyWarning: \n",
      "A value is trying to be set on a copy of a slice from a DataFrame.\n",
      "Try using .loc[row_indexer,col_indexer] = value instead\n",
      "\n",
      "See the caveats in the documentation: https://pandas.pydata.org/pandas-docs/stable/user_guide/indexing.html#returning-a-view-versus-a-copy\n",
      "  filtered['class assignment'] = np.where(filtered.rsa > 0.25, 'E',\n",
      "C:\\Users\\pouls\\PycharmProjects\\swnt-protein-corona-ML\\uniprot_netsurfp_scraping.py:308: FutureWarning: The frame.append method is deprecated and will be removed from pandas in a future version. Use pandas.concat instead.\n",
      "  netsurfp_processed_data = netsurfp_processed_data.append(\n",
      "C:\\Users\\pouls\\PycharmProjects\\swnt-protein-corona-ML\\uniprot_netsurfp_scraping.py:221: SettingWithCopyWarning: \n",
      "A value is trying to be set on a copy of a slice from a DataFrame.\n",
      "Try using .loc[row_indexer,col_indexer] = value instead\n",
      "\n",
      "See the caveats in the documentation: https://pandas.pydata.org/pandas-docs/stable/user_guide/indexing.html#returning-a-view-versus-a-copy\n",
      "  filtered['class assignment'] = np.where(filtered.rsa > 0.25, 'E',\n",
      "C:\\Users\\pouls\\PycharmProjects\\swnt-protein-corona-ML\\uniprot_netsurfp_scraping.py:308: FutureWarning: The frame.append method is deprecated and will be removed from pandas in a future version. Use pandas.concat instead.\n",
      "  netsurfp_processed_data = netsurfp_processed_data.append(\n",
      "C:\\Users\\pouls\\PycharmProjects\\swnt-protein-corona-ML\\uniprot_netsurfp_scraping.py:221: SettingWithCopyWarning: \n",
      "A value is trying to be set on a copy of a slice from a DataFrame.\n",
      "Try using .loc[row_indexer,col_indexer] = value instead\n",
      "\n",
      "See the caveats in the documentation: https://pandas.pydata.org/pandas-docs/stable/user_guide/indexing.html#returning-a-view-versus-a-copy\n",
      "  filtered['class assignment'] = np.where(filtered.rsa > 0.25, 'E',\n",
      "C:\\Users\\pouls\\PycharmProjects\\swnt-protein-corona-ML\\uniprot_netsurfp_scraping.py:308: FutureWarning: The frame.append method is deprecated and will be removed from pandas in a future version. Use pandas.concat instead.\n",
      "  netsurfp_processed_data = netsurfp_processed_data.append(\n",
      "C:\\Users\\pouls\\PycharmProjects\\swnt-protein-corona-ML\\uniprot_netsurfp_scraping.py:221: SettingWithCopyWarning: \n",
      "A value is trying to be set on a copy of a slice from a DataFrame.\n",
      "Try using .loc[row_indexer,col_indexer] = value instead\n",
      "\n",
      "See the caveats in the documentation: https://pandas.pydata.org/pandas-docs/stable/user_guide/indexing.html#returning-a-view-versus-a-copy\n",
      "  filtered['class assignment'] = np.where(filtered.rsa > 0.25, 'E',\n",
      "C:\\Users\\pouls\\PycharmProjects\\swnt-protein-corona-ML\\uniprot_netsurfp_scraping.py:308: FutureWarning: The frame.append method is deprecated and will be removed from pandas in a future version. Use pandas.concat instead.\n",
      "  netsurfp_processed_data = netsurfp_processed_data.append(\n"
     ]
    }
   ],
   "source": [
    "#import data\n",
    "\n",
    "raw_netsurfp_data = pd.read_excel(\"data/Top_20_NetSurfP3_out.xlsx\")\n",
    "CMNP200_ProteinList = pd.read_excel(\"data/top20_ids.xlsx\")\n",
    "description = 'top20'\n",
    "\n",
    "print(CMNP200_ProteinList)\n",
    "#convert ProteinList from series to list, will be used to group all entries in netsurfp data by protein\n",
    "\n",
    "unique_ids_list = CMNP200_ProteinList['Accession'].to_list()\n",
    "\n",
    "# processes netsurfp data into feature columns (this function can be found line 199 of uniprot_netsurfp_scraping.py, the inputs are the raw netsurfp data and a list of proteins you want to include in final database)\n",
    "processed_data = netsurfp_2_data_processing(unique_ids_list, raw_netsurfp_data)\n",
    "\n",
    "print(processed_data.shape)\n",
    "processed_data.to_excel('data/top20.xlsx')\n",
    "print('done')"
   ],
   "metadata": {
    "collapsed": false,
    "pycharm": {
     "name": "#%%\n"
    }
   }
  },
  {
   "cell_type": "markdown",
   "source": [
    "## Use the Following Cell if Importing Data from and Excel Sheet (Don't need to use this -Gus)"
   ],
   "metadata": {
    "collapsed": false,
    "pycharm": {
     "name": "#%% md\n"
    }
   }
  },
  {
   "cell_type": "code",
   "execution_count": null,
   "source": [
    "\n",
    "############# EDIT, FILL IN DATA HERE ############\n",
    "data_file = '2020-02-03 MS compiled for ML project.xlsx'  # needs xlsx at the end \n",
    "\n",
    "plasma_prop_sheet = 'Protein properties, plasma'\n",
    "plasma_mass_spec_sheet = '(GT)15-SWCNT, plasma'\n",
    "\n",
    "csf_prop_sheet = 'Protein properties, CSF'\n",
    "csf_mass_spec_sheet = '(GT)15-SWCNT, CSF'\n",
    "###################################################\n",
    "\n",
    "############ NO EDITS REQUIRED ##############\n",
    "\n",
    "data_filepath = \"data/\" + data_file\n",
    "\n",
    "# load data\n",
    "\n",
    "plasma_raw_data = pd.read_excel(data_filepath, sheet_name= plasma_prop_sheet, thousands=',')\n",
    "csf_raw_data = pd.read_excel(data_filepath, sheet_name= csf_prop_sheet, thousands=',')\n",
    "\n",
    "\n",
    "total_ids = plasma_raw_data.Entry.append(csf_raw_data.Entry)\n",
    "\n",
    "\n",
    "unique_ids = []\n",
    "\n",
    "for i in total_ids:\n",
    "    if i not in unique_ids:\n",
    "        unique_ids.append(i)\n"
   ],
   "outputs": [],
   "metadata": {
    "pycharm": {
     "name": "#%%\n"
    }
   }
  },
  {
   "cell_type": "markdown",
   "source": [
    "## Use this for Importing New Data From UniProt (Don't need to use this  and doesn't work -Gus)\n"
   ],
   "metadata": {
    "pycharm": {
     "name": "#%% md\n"
    }
   }
  },
  {
   "cell_type": "code",
   "execution_count": null,
   "source": [
    "covid_link = 'https://covid-19.uniprot.org/uniprotkb?query=id&format=html'\n",
    "cytoplasm_link = 'https://www.uniprot.org/uniprot/?query=locations:(location:%22Cytoplasm%20%5BSL-0086%5D%22)&fil=organism%3A%22Homo+sapiens+%28Human%29+%5B9606%5D%22+AND+reviewed%3Ayes&limit=1000'\n",
    "dendritic_spine ='https://www.uniprot.org/uniprot/?query=locations:(location:%22Dendritic%20spine%20%5BSL-0284%5D%22)&fil=organism%3A%22Homo+sapiens+%28Human%29+%5B9606%5D%22+AND+reviewed%3Ayes&limit=150'\n",
    "clatherin_pit = 'https://www.uniprot.org/uniprot/?query=locations:(location:%22Clathrin-coated%20pit%20%5BSL-0069%5D%22)&fil=organism%3A%22Homo+sapiens+%28Human%29+%5B9606%5D%22+AND+reviewed%3Ayes'\n",
    "nucleus = 'https://www.uniprot.org/uniprot/?query=locations%3A%28location%3A%22Nucleus+%5BSL-0191%5D%22%29+reviewed%3Ayes+organism%3A%22Homo+sapiens+%28Human%29+%5B9606%5D%22&sort=score&limit=1000'\n",
    "\n",
    "verification_entries = pd.read_html(cytoplasm_link, header=0)[0][\"Entry\"]\n",
    "\n",
    "unique_ids = []\n",
    "\n",
    "for i in verification_entries.to_list():\n",
    "    if i not in unique_ids:\n",
    "        unique_ids.append(i)"
   ],
   "outputs": [],
   "metadata": {
    "pycharm": {
     "name": "#%%\n"
    }
   }
  },
  {
   "cell_type": "markdown",
   "source": [
    "## Generate the fasta file (Don't use any of this, just get fasta file from uniport -Gus)"
   ],
   "metadata": {
    "pycharm": {
     "name": "#%% md\n"
    }
   }
  },
  {
   "cell_type": "code",
   "execution_count": null,
   "source": [
    "chosen_list = [\"Q01995\", 'Q13148', 'P16070', 'P00698', 'P00338', 'P07998', 'Q8ILQ7', 'O00560']\n"
   ],
   "outputs": [],
   "metadata": {
    "pycharm": {
     "name": "#%%\n"
    }
   }
  },
  {
   "cell_type": "code",
   "execution_count": null,
   "source": [
    "unique_ids_list = chosen_list ### identify it your list here\n",
    "fasta_filename = \"chosen_fasta\"\n",
    "####### Dont Touch Below Here #####\n",
    "total_fasta = ''\n",
    "first_loop = True\n",
    "\n",
    "error_list = []\n",
    "for protein in unique_ids_list:\n",
    "    print(protein)\n",
    "    try: current_fasta = protein_data_scraping_fasta(protein)\n",
    "\n",
    "    except Exception:\n",
    "        error_list.append(protein)\n",
    "\n",
    "    \n",
    "    if first_loop:\n",
    "        total_fasta = current_fasta\n",
    "        first_loop = False\n",
    "        \n",
    "    else:\n",
    "        total_fasta += '\\n'+current_fasta\n",
    "\n",
    "    f = open(\"fasta_data/\"+fasta_filename+'.txt', \"w\")\n",
    "    f.write(total_fasta)\n",
    "    f.close() \n",
    "\n",
    "\n",
    "f = open(\"fasta_data/\"+fasta_filename+'.txt', \"w\")\n",
    "f.write(total_fasta)\n",
    "f.close()"
   ],
   "outputs": [],
   "metadata": {
    "pycharm": {
     "name": "#%%\n"
    }
   }
  },
  {
   "cell_type": "code",
   "execution_count": null,
   "source": [
    "print(error_list)"
   ],
   "outputs": [],
   "metadata": {
    "pycharm": {
     "name": "#%%\n"
    }
   }
  },
  {
   "cell_type": "markdown",
   "source": [],
   "metadata": {
    "pycharm": {
     "name": "#%% md\n"
    }
   }
  },
  {
   "cell_type": "code",
   "execution_count": null,
   "source": [],
   "outputs": [],
   "metadata": {
    "pycharm": {
     "name": "#%%\n"
    }
   }
  },
  {
   "cell_type": "code",
   "execution_count": null,
   "outputs": [],
   "source": [],
   "metadata": {
    "collapsed": false,
    "pycharm": {
     "name": "#%%\n"
    }
   }
  }
 ],
 "metadata": {
  "kernelspec": {
   "name": "python3",
   "display_name": "Python 3.8.8 64-bit ('base': conda)"
  },
  "language_info": {
   "codemirror_mode": {
    "name": "ipython",
    "version": 3
   },
   "file_extension": ".py",
   "mimetype": "text/x-python",
   "name": "python",
   "nbconvert_exporter": "python",
   "pygments_lexer": "ipython3",
   "version": "3.8.8"
  },
  "interpreter": {
   "hash": "b3ba2566441a7c06988d0923437866b63cedc61552a5af99d1f4fb67d367b25f"
  }
 },
 "nbformat": 4,
 "nbformat_minor": 4
}