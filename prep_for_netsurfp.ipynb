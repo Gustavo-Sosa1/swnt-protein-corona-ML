{
 "cells": [
  {
   "cell_type": "code",
   "execution_count": 1,
   "source": [
    "import pandas as pd\r\n",
    "import numpy as np\r\n",
    "from pprint import pprint\r\n",
    "# import urllib.request\r\n",
    "# import json\r\n",
    "from uniprot_netsurfp_scraping import *"
   ],
   "outputs": [],
   "metadata": {}
  },
  {
   "cell_type": "markdown",
   "source": [
    "# Prep for Netsurfp "
   ],
   "metadata": {}
  },
  {
   "cell_type": "markdown",
   "source": [
    "## Use the Following Cell if Importing Data from and Excel Sheet"
   ],
   "metadata": {}
  },
  {
   "cell_type": "code",
   "execution_count": 5,
   "source": [
    "\r\n",
    "############# EDIT, FILL IN DATA HERE ############\r\n",
    "data_file = '2020-02-03 MS compiled for ML project.xlsx'  # needs xlsx at the end \r\n",
    "\r\n",
    "plasma_prop_sheet = 'Protein properties, plasma'\r\n",
    "plasma_mass_spec_sheet = '(GT)15-SWCNT, plasma'\r\n",
    "\r\n",
    "csf_prop_sheet = 'Protein properties, CSF'\r\n",
    "csf_mass_spec_sheet = '(GT)15-SWCNT, CSF'\r\n",
    "###################################################\r\n",
    "\r\n",
    "############ NO EDITS REQUIRED ##############\r\n",
    "\r\n",
    "data_filepath = \"data/\" + data_file\r\n",
    "\r\n",
    "# load data\r\n",
    "\r\n",
    "plasma_raw_data = pd.read_excel(data_filepath, sheet_name= plasma_prop_sheet, thousands=',')\r\n",
    "csf_raw_data = pd.read_excel(data_filepath, sheet_name= csf_prop_sheet, thousands=',')\r\n",
    "\r\n",
    "\r\n",
    "total_ids = plasma_raw_data.Entry.append(csf_raw_data.Entry)\r\n",
    "\r\n",
    "\r\n",
    "unique_ids = []\r\n",
    "\r\n",
    "for i in total_ids:\r\n",
    "    if i not in unique_ids:\r\n",
    "        unique_ids.append(i)\r\n"
   ],
   "outputs": [],
   "metadata": {}
  },
  {
   "cell_type": "markdown",
   "source": [
    "## Use this for Importing New Data From UniProt"
   ],
   "metadata": {}
  },
  {
   "cell_type": "code",
   "execution_count": null,
   "source": [
    "covid_link = 'https://covid-19.uniprot.org/uniprotkb?query=id&format=html'\r\n",
    "cytoplasm_link = 'https://www.uniprot.org/uniprot/?query=locations:(location:%22Cytoplasm%20%5BSL-0086%5D%22)&fil=organism%3A%22Homo+sapiens+%28Human%29+%5B9606%5D%22+AND+reviewed%3Ayes&limit=1000'\r\n",
    "dendritic_spine ='https://www.uniprot.org/uniprot/?query=locations:(location:%22Dendritic%20spine%20%5BSL-0284%5D%22)&fil=organism%3A%22Homo+sapiens+%28Human%29+%5B9606%5D%22+AND+reviewed%3Ayes&limit=150'\r\n",
    "clatherin_pit = 'https://www.uniprot.org/uniprot/?query=locations:(location:%22Clathrin-coated%20pit%20%5BSL-0069%5D%22)&fil=organism%3A%22Homo+sapiens+%28Human%29+%5B9606%5D%22+AND+reviewed%3Ayes'\r\n",
    "nucleus = 'https://www.uniprot.org/uniprot/?query=locations%3A%28location%3A%22Nucleus+%5BSL-0191%5D%22%29+reviewed%3Ayes+organism%3A%22Homo+sapiens+%28Human%29+%5B9606%5D%22&sort=score&limit=1000'\r\n",
    "\r\n",
    "verification_entries = pd.read_html(cytoplasm_link, header=0)[0][\"Entry\"]\r\n",
    "\r\n",
    "unique_ids = []\r\n",
    "\r\n",
    "for i in verification_entries.to_list():\r\n",
    "    if i not in unique_ids:\r\n",
    "        unique_ids.append(i)"
   ],
   "outputs": [],
   "metadata": {}
  },
  {
   "cell_type": "markdown",
   "source": [
    "## Generate the fasta file"
   ],
   "metadata": {}
  },
  {
   "cell_type": "code",
   "execution_count": 3,
   "source": [
    "chosen_list = [\"Q01995\", 'Q13148', 'P16070', 'P00698', 'P00338', 'P07998', 'Q8MU52', 'O00560']\r\n"
   ],
   "outputs": [],
   "metadata": {}
  },
  {
   "cell_type": "code",
   "execution_count": 17,
   "source": [
    "unique_ids_list = chosen_list ### identify it your list here\r\n",
    "fasta_filename = \"chosen_fasta\"\r\n",
    "####### Dont Touch Below Here #####\r\n",
    "total_fasta = ''\r\n",
    "\r\n",
    "error_list = []\r\n",
    "for protein in unique_ids_list:\r\n",
    "    print(protein)\r\n",
    "    try: current_fasta = protein_data_scraping_fasta(protein)\r\n",
    "\r\n",
    "    except Exception:\r\n",
    "        error_list.append(protein)\r\n",
    "\r\n",
    "    \r\n",
    "    if first_loop:\r\n",
    "        total_fasta = current_fasta\r\n",
    "        first_loop = False\r\n",
    "        \r\n",
    "    else:\r\n",
    "        total_fasta += '\\n'+current_fasta      \r\n",
    "\r\n",
    "    f = open(\"fasta_data/\"+fasta_filename+'.txt', \"w\")\r\n",
    "    f.write(total_fasta)\r\n",
    "    f.close() \r\n",
    "\r\n",
    "\r\n",
    "f = open(\"fasta_data/\"+fasta_filename+'.txt', \"w\")\r\n",
    "f.write(total_fasta)\r\n",
    "f.close()"
   ],
   "outputs": [
    {
     "output_type": "stream",
     "name": "stdout",
     "text": [
      "P05164\n",
      "https://www.uniprot.org/uniprot/P05164.fasta\n",
      "P01834\n",
      "https://www.uniprot.org/uniprot/P01834.fasta\n",
      "P04080\n",
      "https://www.uniprot.org/uniprot/P04080.fasta\n",
      "P01833\n",
      "https://www.uniprot.org/uniprot/P01833.fasta\n",
      "P01857\n",
      "https://www.uniprot.org/uniprot/P01857.fasta\n",
      "P25311\n",
      "https://www.uniprot.org/uniprot/P25311.fasta\n",
      "P31025\n",
      "https://www.uniprot.org/uniprot/P31025.fasta\n",
      "Q9C0C2\n",
      "https://www.uniprot.org/uniprot/Q9C0C2.fasta\n",
      "Q9UGM3\n",
      "https://www.uniprot.org/uniprot/Q9UGM3.fasta\n",
      "P13647\n",
      "https://www.uniprot.org/uniprot/P13647.fasta\n",
      "Q8TAX7\n",
      "https://www.uniprot.org/uniprot/Q8TAX7.fasta\n",
      "P54652\n",
      "https://www.uniprot.org/uniprot/P54652.fasta\n",
      "P01591\n",
      "https://www.uniprot.org/uniprot/P01591.fasta\n",
      "Q9HC84\n",
      "https://www.uniprot.org/uniprot/Q9HC84.fasta\n",
      "P05787\n",
      "https://www.uniprot.org/uniprot/P05787.fasta\n",
      "P04083\n",
      "https://www.uniprot.org/uniprot/P04083.fasta\n",
      "P04075\n",
      "https://www.uniprot.org/uniprot/P04075.fasta\n",
      "P07108\n",
      "https://www.uniprot.org/uniprot/P07108.fasta\n",
      "P04792\n",
      "https://www.uniprot.org/uniprot/P04792.fasta\n",
      "Q02487\n",
      "https://www.uniprot.org/uniprot/Q02487.fasta\n",
      "P02647\n",
      "https://www.uniprot.org/uniprot/P02647.fasta\n",
      "Q01469\n",
      "https://www.uniprot.org/uniprot/Q01469.fasta\n",
      "P01871\n",
      "https://www.uniprot.org/uniprot/P01871.fasta\n",
      "P04259\n",
      "https://www.uniprot.org/uniprot/P04259.fasta\n",
      "P08779\n",
      "https://www.uniprot.org/uniprot/P08779.fasta\n",
      "P02538\n",
      "https://www.uniprot.org/uniprot/P02538.fasta\n",
      "P22079\n",
      "https://www.uniprot.org/uniprot/P22079.fasta\n",
      "Q8N1N4\n",
      "https://www.uniprot.org/uniprot/Q8N1N4.fasta\n",
      "Q9UBC9\n",
      "https://www.uniprot.org/uniprot/Q9UBC9.fasta\n",
      "Q9NQ38\n",
      "https://www.uniprot.org/uniprot/Q9NQ38.fasta\n",
      "A8K2U0\n",
      "https://www.uniprot.org/uniprot/A8K2U0.fasta\n",
      "P07737\n",
      "https://www.uniprot.org/uniprot/P07737.fasta\n",
      "P27482\n",
      "https://www.uniprot.org/uniprot/P27482.fasta\n",
      "P60174\n",
      "https://www.uniprot.org/uniprot/P60174.fasta\n",
      "P04433\n",
      "https://www.uniprot.org/uniprot/P04433.fasta\n",
      "P03973\n",
      "https://www.uniprot.org/uniprot/P03973.fasta\n",
      "P52209\n",
      "https://www.uniprot.org/uniprot/P52209.fasta\n",
      "P01040\n",
      "https://www.uniprot.org/uniprot/P01040.fasta\n",
      "P47929\n",
      "https://www.uniprot.org/uniprot/P47929.fasta\n",
      "P13645\n",
      "https://www.uniprot.org/uniprot/P13645.fasta\n",
      "P02774\n",
      "https://www.uniprot.org/uniprot/P02774.fasta\n",
      "P48668\n",
      "https://www.uniprot.org/uniprot/P48668.fasta\n",
      "P14618\n",
      "https://www.uniprot.org/uniprot/P14618.fasta\n",
      "P00558\n",
      "https://www.uniprot.org/uniprot/P00558.fasta\n",
      "Q01518\n",
      "https://www.uniprot.org/uniprot/Q01518.fasta\n",
      "P78386\n",
      "https://www.uniprot.org/uniprot/P78386.fasta\n",
      "P08729\n",
      "https://www.uniprot.org/uniprot/P08729.fasta\n",
      "Q5T681\n",
      "https://www.uniprot.org/uniprot/Q5T681.fasta\n",
      "P01860\n",
      "https://www.uniprot.org/uniprot/P01860.fasta\n",
      "P19012\n",
      "https://www.uniprot.org/uniprot/P19012.fasta\n",
      "Q08380\n",
      "https://www.uniprot.org/uniprot/Q08380.fasta\n",
      "P13646\n",
      "https://www.uniprot.org/uniprot/P13646.fasta\n",
      "Q2M2I5\n",
      "https://www.uniprot.org/uniprot/Q2M2I5.fasta\n",
      "P19013\n",
      "https://www.uniprot.org/uniprot/P19013.fasta\n",
      "Q6KB66\n",
      "https://www.uniprot.org/uniprot/Q6KB66.fasta\n",
      "P31151\n",
      "https://www.uniprot.org/uniprot/P31151.fasta\n",
      "Q86SG5\n",
      "https://www.uniprot.org/uniprot/Q86SG5.fasta\n",
      "P06733\n",
      "https://www.uniprot.org/uniprot/P06733.fasta\n",
      "P09104\n",
      "https://www.uniprot.org/uniprot/P09104.fasta\n",
      "P07355\n",
      "https://www.uniprot.org/uniprot/P07355.fasta\n",
      "A6NMY6\n",
      "https://www.uniprot.org/uniprot/A6NMY6.fasta\n",
      "P0CG38\n",
      "https://www.uniprot.org/uniprot/P0CG38.fasta\n",
      "P0CG39\n",
      "https://www.uniprot.org/uniprot/P0CG39.fasta\n",
      "P22528\n",
      "https://www.uniprot.org/uniprot/P22528.fasta\n",
      "P35321\n",
      "https://www.uniprot.org/uniprot/P35321.fasta\n"
     ]
    }
   ],
   "metadata": {}
  },
  {
   "cell_type": "code",
   "execution_count": 8,
   "source": [
    "print(error_list)"
   ],
   "outputs": [
    {
     "output_type": "stream",
     "name": "stdout",
     "text": [
      "['P04745']\n"
     ]
    }
   ],
   "metadata": {}
  },
  {
   "cell_type": "markdown",
   "source": [
    "# Go to NetSurfP website and Submit Data, after completion paste data into an excel file for import into the program"
   ],
   "metadata": {}
  },
  {
   "cell_type": "markdown",
   "source": [
    "Use excel to break up all of the data into columns this will require titiling each column based off of the key netsurp provides "
   ],
   "metadata": {}
  },
  {
   "cell_type": "markdown",
   "source": [
    "# Processing NetSurfP data for use in future notebooks"
   ],
   "metadata": {}
  },
  {
   "cell_type": "code",
   "execution_count": 6,
   "source": [
    "complete_netsurfp = pd.read_excel(\"data/\"+'netsurfp2_lcms_proteins_data.xlsx')\r\n",
    "\r\n",
    "processed_data = netsurfp_2_data_processing(unique_ids, complete_netsurfp) ### processes netsurfp data into feature columns\r\n",
    "\r\n",
    "print(processed_data.shape)\r\n",
    "processed_data.to_excel(\"data/\"+'netsurfp_2_lcms_proteins_processed_updated.xlsx')\r\n"
   ],
   "outputs": [
    {
     "output_type": "stream",
     "name": "stderr",
     "text": [
      "c:\\Users\\Venus\\Desktop\\protein-corona-ml-05192021\\uniprot_netsurfp_scraping.py:206: SettingWithCopyWarning: \n",
      "A value is trying to be set on a copy of a slice from a DataFrame.\n",
      "Try using .loc[row_indexer,col_indexer] = value instead\n",
      "\n",
      "See the caveats in the documentation: https://pandas.pydata.org/pandas-docs/stable/user_guide/indexing.html#returning-a-view-versus-a-copy\n",
      "  filtered['class assignment'] = np.where(filtered.rsa > 0.25, 'E', 'B')\n"
     ]
    },
    {
     "output_type": "stream",
     "name": "stdout",
     "text": [
      "(136, 55)\n"
     ]
    }
   ],
   "metadata": {}
  }
 ],
 "metadata": {
  "kernelspec": {
   "name": "python3",
   "display_name": "Python 3.8.8 64-bit ('base': conda)"
  },
  "language_info": {
   "codemirror_mode": {
    "name": "ipython",
    "version": 3
   },
   "file_extension": ".py",
   "mimetype": "text/x-python",
   "name": "python",
   "nbconvert_exporter": "python",
   "pygments_lexer": "ipython3",
   "version": "3.8.8"
  },
  "interpreter": {
   "hash": "b3ba2566441a7c06988d0923437866b63cedc61552a5af99d1f4fb67d367b25f"
  }
 },
 "nbformat": 4,
 "nbformat_minor": 4
}